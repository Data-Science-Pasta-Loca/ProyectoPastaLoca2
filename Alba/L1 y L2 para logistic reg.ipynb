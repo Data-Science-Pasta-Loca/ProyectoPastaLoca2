{
 "cells": [
  {
   "cell_type": "code",
   "execution_count": 1,
   "metadata": {},
   "outputs": [
    {
     "name": "stderr",
     "output_type": "stream",
     "text": [
      "Exception ignored in: <bound method IPythonKernel._clean_thread_parent_frames of <ipykernel.ipkernel.IPythonKernel object at 0x7f40f5806d10>>\n",
      "Traceback (most recent call last):\n",
      "  File \"/home/albagd/.local/lib/python3.10/site-packages/ipykernel/ipkernel.py\", line 775, in _clean_thread_parent_frames\n",
      "    def _clean_thread_parent_frames(\n",
      "KeyboardInterrupt: \n"
     ]
    }
   ],
   "source": [
    "import numpy as np\n",
    "import pandas as pd\n",
    "import seaborn as sns\n",
    "import matplotlib.pyplot as plt\n",
    "import plotly.express as px\n",
    "import plotly.graph_objects as go\n",
    "import itertools # Importando itertools para generar combinaciones de columnas\n",
    "# Importando la función seasonal_decompose para la descomposición de series temporales\n",
    "from statsmodels.tsa.seasonal import seasonal_decompose\n",
    "import matplotlib.patches as mpatches\n",
    "import payments_manager as pm\n",
    "from sklearn.linear_model import LogisticRegression\n",
    "from sklearn.model_selection import train_test_split\n",
    "from sklearn.preprocessing import StandardScaler\n",
    "from sklearn.metrics import roc_curve, auc\n",
    "# Importa la función para crear la matriz de confusión\n",
    "from sklearn.metrics import classification_report, confusion_matrix\n",
    "\n",
    "from sklearn.preprocessing import OneHotEncoder\n",
    "from sklearn.compose import ColumnTransformer\n",
    "from sklearn.pipeline import Pipeline\n",
    "cr_cp = pm.df('cr_cp')\n",
    "fe_cp = pm.df('fe_cp')\n",
    "df_jo = pm.df('df_jo')\n",
    "#df_jo = pm.sort(\"df_jo\", [\"id_cr\"]).reset_index()\n",
    "#df_jo = df_jo.drop(columns=['index'])\n",
    "#df_jo = df_jo.drop(columns=['Mes_created_at'])\n",
    "#df_jo_cp = df_jo.copy()\n",
    "df_jo = pm.sort(\"df_jo\", [\"id_cr\"]).reset_index()\n",
    "df_jo = df_jo.drop(columns=['index'])\n",
    "#df_jo.info()\n"
   ]
  },
  {
   "cell_type": "code",
   "execution_count": 3,
   "metadata": {},
   "outputs": [
    {
     "data": {
      "text/plain": [
       "Index(['id_cr', 'id_fe', 'fe_cr_id', 'user_id', 'active', 'created_at',\n",
       "       'created_at_fe', 'amount', 'fee', 'stat_cr', 'stat_fe', 'transfer_type',\n",
       "       'type', 'to_receive_ini', 'to_receive_bank', 'to_reimbur',\n",
       "       'to_reimbur_cash', 'to_end', 'to_send', 'send_at', 'cr_received_date',\n",
       "       'money_back_date', 'reimbursement_date', 'paid_at', 'charge_moment',\n",
       "       'moderated_at', 'reason', 'category', 'from_date', 'to_date',\n",
       "       'recovery_status', 'updated_at', 'reco_creation', 'reco_last_update',\n",
       "       'updated_at_fe', 'Mes_created_at', 'cash_request_received_date',\n",
       "       'created_at_slot', 'created_at_slot_h', 'created_at_dow',\n",
       "       'needs_m_check', 'needs_m_check_recov', 'n_fees', 'n_backs',\n",
       "       'n_recovery', 'n_incidents', 'created_at_d', 'GBP_EUR', 'BTC_GBP',\n",
       "       'inflation', 'unemploy_rate'],\n",
       "      dtype='object')"
      ]
     },
     "execution_count": 3,
     "metadata": {},
     "output_type": "execute_result"
    }
   ],
   "source": [
    "df_jo.columns"
   ]
  },
  {
   "cell_type": "code",
   "execution_count": 4,
   "metadata": {},
   "outputs": [],
   "source": [
    "X_log_L=df_jo.drop(columns=['id_cr','id_fe','fe_cr_id','active','stat_cr','stat_fe','recovery_status','needs_m_check','needs_m_check_recov','Mes_created_at','created_at_slot_h','created_at_d'])\n",
    "y_log_L=df_jo['needs_m_check_recov']"
   ]
  },
  {
   "cell_type": "code",
   "execution_count": null,
   "metadata": {},
   "outputs": [
    {
     "name": "stdout",
     "output_type": "stream",
     "text": [
      "<class 'pandas.core.frame.DataFrame'>\n",
      "RangeIndex: 32092 entries, 0 to 32091\n",
      "Data columns (total 39 columns):\n",
      " #   Column                      Non-Null Count  Dtype          \n",
      "---  ------                      --------------  -----          \n",
      " 0   user_id                     32092 non-null  int64          \n",
      " 1   created_at                  32092 non-null  datetime64[ns] \n",
      " 2   created_at_fe               21055 non-null  datetime64[ns] \n",
      " 3   amount                      32092 non-null  float64        \n",
      " 4   fee                         32092 non-null  float64        \n",
      " 5   transfer_type               32092 non-null  object         \n",
      " 6   type                        32092 non-null  object         \n",
      " 7   to_receive_ini              25366 non-null  timedelta64[ns]\n",
      " 8   to_receive_bank             18691 non-null  timedelta64[ns]\n",
      " 9   to_reimbur                  32092 non-null  timedelta64[ns]\n",
      " 10  to_reimbur_cash             22677 non-null  timedelta64[ns]\n",
      " 11  to_end                      24106 non-null  timedelta64[ns]\n",
      " 12  to_send                     22677 non-null  timedelta64[ns]\n",
      " 13  send_at                     22677 non-null  datetime64[ns] \n",
      " 14  cr_received_date            25366 non-null  datetime64[ns] \n",
      " 15  money_back_date             24106 non-null  datetime64[ns] \n",
      " 16  reimbursement_date          32092 non-null  datetime64[ns] \n",
      " 17  paid_at                     15529 non-null  datetime64[ns] \n",
      " 18  charge_moment               21055 non-null  object         \n",
      " 19  moderated_at                21757 non-null  datetime64[ns] \n",
      " 20  reason                      21055 non-null  object         \n",
      " 21  category                    21055 non-null  object         \n",
      " 22  from_date                   7765 non-null   datetime64[ns] \n",
      " 23  to_date                     7765 non-null   datetime64[ns] \n",
      " 24  updated_at                  32092 non-null  datetime64[ns] \n",
      " 25  reco_creation               7199 non-null   datetime64[ns] \n",
      " 26  reco_last_update            7199 non-null   datetime64[ns] \n",
      " 27  updated_at_fe               21055 non-null  datetime64[ns] \n",
      " 28  cash_request_received_date  25366 non-null  datetime64[ns] \n",
      " 29  created_at_slot             32092 non-null  int32          \n",
      " 30  created_at_dow              32092 non-null  int32          \n",
      " 31  n_fees                      32092 non-null  int64          \n",
      " 32  n_backs                     32092 non-null  int64          \n",
      " 33  n_recovery                  32092 non-null  int64          \n",
      " 34  n_incidents                 32092 non-null  int64          \n",
      " 35  GBP_EUR                     32092 non-null  float64        \n",
      " 36  BTC_GBP                     32092 non-null  float64        \n",
      " 37  inflation                   32092 non-null  float64        \n",
      " 38  unemploy_rate               32092 non-null  float64        \n",
      "dtypes: datetime64[ns](15), float64(6), int32(2), int64(5), object(5), timedelta64[ns](6)\n",
      "memory usage: 9.3+ MB\n"
     ]
    },
    {
     "ename": "",
     "evalue": "",
     "output_type": "error",
     "traceback": [
      "\u001b[1;31mThe Kernel crashed while executing code in the current cell or a previous cell. \n",
      "\u001b[1;31mPlease review the code in the cell(s) to identify a possible cause of the failure. \n",
      "\u001b[1;31mClick <a href='https://aka.ms/vscodeJupyterKernelCrash'>here</a> for more info. \n",
      "\u001b[1;31mView Jupyter <a href='command:jupyter.viewOutput'>log</a> for further details."
     ]
    }
   ],
   "source": [
    "X_log_L.info()"
   ]
  },
  {
   "cell_type": "code",
   "execution_count": null,
   "metadata": {},
   "outputs": [],
   "source": [
    "from sklearn.linear_model import LogisticRegression\n",
    "from sklearn.preprocessing import StandardScaler\n",
    "from sklearn.model_selection import train_test_split\n",
    "\n",
    "X= X_log_L\n",
    "y= y_log_L\n",
    "\n",
    "\n",
    "# Convertir las columnas de tipo timedelta64\n",
    "for col in X.select_dtypes(include=['timedelta64']).columns:\n",
    "    X[col] = X[col].apply(lambda x: x.total_seconds() if pd.notnull(x) else None)\n",
    "\n",
    "# One Hot econding para pasar a numéricas todas las categóricas\n",
    "X = pd.get_dummies(X, columns=['transfer_type','type','charge_moment','reason','category'], drop_first=False, dtype=int)\n",
    "\n",
    "# X son las características y y es la variable objetivo\n",
    "X_train, X_test, y_train, y_test = train_test_split(X, y, test_size=0.2, random_state=42)\n",
    "\n",
    "# Escalar los datos (importante para regularización)\n",
    "scaler = StandardScaler()\n",
    "X_train_scaled = scaler.fit_transform(X_train)\n",
    "X_test_scaled = scaler.transform(X_test)\n",
    "\n",
    "# Modelo con penalización L1 (similar a Lasso)\n",
    "logreg_l1 = LogisticRegression(penalty='l1', solver='saga', C=1.0, random_state=42) #probar tb con solver='liblinear'\n",
    "logreg_l1.fit(X_train_scaled, y_train)\n",
    "\n",
    "# Modelo con penalización L2 (similar a Ridge)\n",
    "logreg_l2 = LogisticRegression(penalty='l2', solver='lbfgs', C=1.0, random_state=42)\n",
    "logreg_l2.fit(X_train_scaled, y_train)\n",
    "\n",
    "# Predicciones\n",
    "y_pred_l1 = logreg_l1.predict(X_test_scaled)\n",
    "y_pred_l2 = logreg_l2.predict(X_test_scaled)\n",
    "\n",
    "# Evaluación (por ejemplo, exactitud)\n",
    "from sklearn.metrics import accuracy_score\n",
    "print(\"Exactitud L1:\", accuracy_score(y_test, y_pred_l1))\n",
    "print(\"Exactitud L2:\", accuracy_score(y_test, y_pred_l2))\n"
   ]
  },
  {
   "cell_type": "code",
   "execution_count": null,
   "metadata": {},
   "outputs": [],
   "source": [
    "# Extraer los coeficientes para la L1\n",
    "coefs = logreg_l1.coef_[0]  # Para regresión logística binaria, es un vector 1D\n",
    "\n",
    "# Crear un DataFrame para visualizar los coeficientes junto con las características\n",
    "importancia = pd.DataFrame({\n",
    "    'Característica': X_train.columns,\n",
    "    'Coeficiente': coefs\n",
    "})\n",
    "\n",
    "# Ordenar por la magnitud de los coeficientes\n",
    "importancia = importancia.reindex(importancia['Coeficiente'].abs().sort_values(ascending=False).index)\n",
    "\n",
    "# Mostrar las características con coeficientes no nulos (para Lasso)\n",
    "importancia_no_nula = importancia[importancia['Coeficiente'] != 0]\n",
    "\n",
    "print(\"Características importantes:\")\n",
    "print(importancia_no_nula)"
   ]
  },
  {
   "cell_type": "code",
   "execution_count": null,
   "metadata": {},
   "outputs": [
    {
     "ename": "NameError",
     "evalue": "name 'logreg_l2' is not defined",
     "output_type": "error",
     "traceback": [
      "\u001b[0;31m---------------------------------------------------------------------------\u001b[0m",
      "\u001b[0;31mNameError\u001b[0m                                 Traceback (most recent call last)",
      "Cell \u001b[0;32mIn[1], line 2\u001b[0m\n\u001b[1;32m      1\u001b[0m \u001b[38;5;66;03m# Extraer los coeficientes para la L2\u001b[39;00m\n\u001b[0;32m----> 2\u001b[0m coefs2 \u001b[38;5;241m=\u001b[39m \u001b[43mlogreg_l2\u001b[49m\u001b[38;5;241m.\u001b[39mcoef_[\u001b[38;5;241m0\u001b[39m]  \u001b[38;5;66;03m# Para regresión logística binaria, es un vector 1D\u001b[39;00m\n\u001b[1;32m      4\u001b[0m \u001b[38;5;66;03m# Crear un DataFrame para visualizar los coeficientes junto con las características\u001b[39;00m\n\u001b[1;32m      5\u001b[0m importancia2 \u001b[38;5;241m=\u001b[39m pd\u001b[38;5;241m.\u001b[39mDataFrame({\n\u001b[1;32m      6\u001b[0m     \u001b[38;5;124m'\u001b[39m\u001b[38;5;124mCaracterística\u001b[39m\u001b[38;5;124m'\u001b[39m: X_train\u001b[38;5;241m.\u001b[39mcolumns,\n\u001b[1;32m      7\u001b[0m     \u001b[38;5;124m'\u001b[39m\u001b[38;5;124mCoeficiente\u001b[39m\u001b[38;5;124m'\u001b[39m: coefs2\n\u001b[1;32m      8\u001b[0m })\n",
      "\u001b[0;31mNameError\u001b[0m: name 'logreg_l2' is not defined"
     ]
    }
   ],
   "source": [
    "# Extraer los coeficientes para la L2\n",
    "coefs2 = logreg_l2.coef_[0]  # Para regresión logística binaria, es un vector 1D\n",
    "\n",
    "# Crear un DataFrame para visualizar los coeficientes junto con las características\n",
    "importancia2 = pd.DataFrame({\n",
    "    'Característica': X_train.columns,\n",
    "    'Coeficiente': coefs2\n",
    "})\n",
    "\n",
    "# Ordenar por la magnitud de los coeficientes\n",
    "importancia2 = importancia2.reindex(importancia2['Coeficiente'].abs().sort_values(ascending=False).index)\n",
    "\n",
    "# Mostrar las características con coeficientes no nulos (para Lasso)\n",
    "importancia_no_nula2 = importancia2[importancia2['Coeficiente'] != 0]\n",
    "\n",
    "print(\"Características importantes:\")\n",
    "print(importancia_no_nula2)"
   ]
  }
 ],
 "metadata": {
  "kernelspec": {
   "display_name": "Python 3",
   "language": "python",
   "name": "python3"
  },
  "language_info": {
   "codemirror_mode": {
    "name": "ipython",
    "version": 3
   },
   "file_extension": ".py",
   "mimetype": "text/x-python",
   "name": "python",
   "nbconvert_exporter": "python",
   "pygments_lexer": "ipython3",
   "version": "3.10.12"
  }
 },
 "nbformat": 4,
 "nbformat_minor": 2
}
